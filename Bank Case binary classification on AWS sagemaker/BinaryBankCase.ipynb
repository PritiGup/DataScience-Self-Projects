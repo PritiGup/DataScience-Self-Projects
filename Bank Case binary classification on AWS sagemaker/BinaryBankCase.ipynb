{
 "cells": [
  {
   "cell_type": "code",
   "execution_count": 2,
   "id": "02c4a6a4",
   "metadata": {},
   "outputs": [],
   "source": [
    "import sagemaker\n",
    "import boto3\n",
    "from sagemaker.amazon.amazon_estimator import get_image_uri\n",
    "from sagemaker.session import s3_input, Session"
   ]
  },
  {
   "cell_type": "code",
   "execution_count": 3,
   "id": "f5dfdd56",
   "metadata": {},
   "outputs": [
    {
     "name": "stdout",
     "output_type": "stream",
     "text": [
      "us-east-1\n"
     ]
    }
   ],
   "source": [
    "bucket_name='bankapplication'\n",
    "my_region=boto3.session.Session().region_name\n",
    "print(my_region)"
   ]
  },
  {
   "cell_type": "code",
   "execution_count": 13,
   "id": "8a03db14",
   "metadata": {},
   "outputs": [
    {
     "name": "stdout",
     "output_type": "stream",
     "text": [
      "bucket created\n"
     ]
    }
   ],
   "source": [
    "bucket_name='bankapplication9999'\n",
    "s3=boto3.resource('s3')\n",
    "try:\n",
    "    if my_region == 'us-east-1':\n",
    "        s3.create_bucket(Bucket=bucket_name)\n",
    "        print('bucket created')\n",
    "except Exception as e:\n",
    "    print('error : ', e)\n",
    "    \n"
   ]
  },
  {
   "cell_type": "code",
   "execution_count": 14,
   "id": "29591809",
   "metadata": {},
   "outputs": [
    {
     "name": "stdout",
     "output_type": "stream",
     "text": [
      "s3://bankapplication9999/xgboost-as-a-build-in-algo/output\n"
     ]
    }
   ],
   "source": [
    "prefix='xgboost-as-a-build-in-algo'\n",
    "output_path='s3://{}/{}/output'.format(bucket_name,prefix)\n",
    "print(output_path)"
   ]
  },
  {
   "cell_type": "code",
   "execution_count": 15,
   "id": "1d5c4939",
   "metadata": {},
   "outputs": [],
   "source": [
    "import pandas as pd\n",
    "import urllib\n"
   ]
  },
  {
   "cell_type": "code",
   "execution_count": 27,
   "id": "219c234a",
   "metadata": {},
   "outputs": [
    {
     "name": "stdout",
     "output_type": "stream",
     "text": [
      "download succesful\n",
      "read in panda\n"
     ]
    }
   ],
   "source": [
    "try:\n",
    "    urllib.request.urlretrieve (\"https://d1.awsstatic.com/tmt/build-train-deploy-machine-learning-model-sagemaker/bank_clean.27f01fbbdf43271788427f3682996ae29ceca05d.csv\", \"bank_clean.csv\")\n",
    "    print('download succesful')\n",
    "except exception as e:\n",
    "    print('error',e)\n",
    "    \n",
    "try:\n",
    "    df=pd.read_csv('bank_clean.csv',index_col=0)\n",
    "    print('read in panda')\n",
    "except exception as e:\n",
    "    print('error reading in pandas')\n",
    "    \n",
    "    "
   ]
  },
  {
   "cell_type": "code",
   "execution_count": 28,
   "id": "0a2750ed",
   "metadata": {},
   "outputs": [],
   "source": [
    "from sklearn.model_selection import train_test_split"
   ]
  },
  {
   "cell_type": "code",
   "execution_count": 31,
   "id": "dccb8165",
   "metadata": {},
   "outputs": [],
   "source": [
    "y=df['y_yes']\n",
    "X=df.drop(['y_yes','y_no'],axis=1)\n"
   ]
  },
  {
   "cell_type": "code",
   "execution_count": 32,
   "id": "ddfff2f8",
   "metadata": {},
   "outputs": [],
   "source": [
    "X_train,X_test,y_train,y_test= train_test_split(X,y,test_size=.3, random_state=49)"
   ]
  },
  {
   "cell_type": "code",
   "execution_count": 37,
   "id": "875d81bd",
   "metadata": {},
   "outputs": [
    {
     "data": {
      "text/plain": [
       "((41188, 61), (28831,))"
      ]
     },
     "execution_count": 37,
     "metadata": {},
     "output_type": "execute_result"
    }
   ],
   "source": [
    "df.shape , y_train.shape"
   ]
  },
  {
   "cell_type": "code",
   "execution_count": 36,
   "id": "9c07867f",
   "metadata": {},
   "outputs": [
    {
     "data": {
      "text/plain": [
       "17214    0\n",
       "39221    1\n",
       "10882    0\n",
       "14835    0\n",
       "33678    0\n",
       "Name: y_yes, dtype: int64"
      ]
     },
     "execution_count": 36,
     "metadata": {},
     "output_type": "execute_result"
    }
   ],
   "source": [
    "y_train.head()"
   ]
  },
  {
   "cell_type": "code",
   "execution_count": 42,
   "id": "31b4681d",
   "metadata": {},
   "outputs": [],
   "source": [
    "import numpy as np\n",
    "\n",
    "train,test=np.split(df.sample(frac=1,random_state=42), [int(0.8 * len(df))],axis=0)"
   ]
  },
  {
   "cell_type": "code",
   "execution_count": 51,
   "id": "c88d3a21",
   "metadata": {},
   "outputs": [],
   "source": [
    "import os\n",
    "pd.concat([train['y_yes'], train.drop(['y_no', 'y_yes'], \n",
    "                                                axis=1)], \n",
    "                                                axis=1).to_csv('train.csv', index=False, header=False)\n",
    "boto3.Session().resource('s3').Bucket(bucket_name).Object(os.path.join(prefix, 'train/train.csv')).upload_file('train.csv')\n",
    "s3_input_train = sagemaker.TrainingInput(s3_data='s3://{}/{}/train'.format(bucket_name, prefix), content_type='csv')"
   ]
  },
  {
   "cell_type": "code",
   "execution_count": 53,
   "id": "c9ccf48c",
   "metadata": {},
   "outputs": [],
   "source": [
    "pd.concat([test['y_yes'], test.drop(['y_no', 'y_yes'], axis=1)], axis=1).to_csv('test.csv', index=False, header=False)\n",
    "boto3.Session().resource('s3').Bucket(bucket_name).Object(os.path.join(prefix, 'test/test.csv')).upload_file('test.csv')\n",
    "s3_input_test = sagemaker.TrainingInput(s3_data='s3://{}/{}/test'.format(bucket_name, prefix), content_type='csv')"
   ]
  },
  {
   "cell_type": "code",
   "execution_count": 58,
   "id": "15903e31",
   "metadata": {},
   "outputs": [],
   "source": [
    "container = sagemaker.image_uris.retrieve('xgboost',boto3.Session().region_name,'1.2-2')"
   ]
  },
  {
   "cell_type": "code",
   "execution_count": 59,
   "id": "d509151c",
   "metadata": {},
   "outputs": [],
   "source": [
    "hyperparameters = {\n",
    "        \"max_depth\":\"5\",\n",
    "        \"eta\":\"0.2\",\n",
    "        \"gamma\":\"4\",\n",
    "        \"min_child_weight\":\"6\",\n",
    "        \"subsample\":\"0.7\",\n",
    "        \"objective\":\"binary:logistic\",\n",
    "        \"num_round\":50\n",
    "        }"
   ]
  },
  {
   "cell_type": "code",
   "execution_count": 63,
   "id": "02c71526",
   "metadata": {},
   "outputs": [],
   "source": [
    "estimator = sagemaker.estimator.Estimator(image_uri=container, \n",
    "                                          hyperparameters=hyperparameters,\n",
    "                                          role=sagemaker.get_execution_role(),\n",
    "                                          instance_count=1, \n",
    "                                          instance_type='ml.m5.2xlarge', \n",
    "                                          volume_size=5, # 5 GB \n",
    "                                          output_path=output_path)"
   ]
  },
  {
   "cell_type": "code",
   "execution_count": 64,
   "id": "3923e513",
   "metadata": {},
   "outputs": [
    {
     "name": "stdout",
     "output_type": "stream",
     "text": [
      "2022-05-10 12:59:40 Starting - Starting the training job...\n",
      "2022-05-10 13:00:04 Starting - Preparing the instances for trainingProfilerReport-1652187580: InProgress\n",
      ".........\n",
      "2022-05-10 13:01:31 Downloading - Downloading input data...\n",
      "2022-05-10 13:02:11 Training - Downloading the training image.....\u001b[34m[2022-05-10 13:02:50.869 ip-10-0-132-248.ec2.internal:1 INFO utils.py:27] RULE_JOB_STOP_SIGNAL_FILENAME: None\u001b[0m\n",
      "\u001b[34m[2022-05-10:13:02:50:INFO] Imported framework sagemaker_xgboost_container.training\u001b[0m\n",
      "\u001b[34m[2022-05-10:13:02:50:INFO] Failed to parse hyperparameter objective value binary:logistic to Json.\u001b[0m\n",
      "\u001b[34mReturning the value itself\u001b[0m\n",
      "\u001b[34m[2022-05-10:13:02:50:INFO] No GPUs detected (normal if no gpus installed)\u001b[0m\n",
      "\u001b[34m[2022-05-10:13:02:50:INFO] Running XGBoost Sagemaker in algorithm mode\u001b[0m\n",
      "\u001b[34m[2022-05-10:13:02:50:INFO] Determined delimiter of CSV input is ','\u001b[0m\n",
      "\u001b[34m[2022-05-10:13:02:50:INFO] Determined delimiter of CSV input is ','\u001b[0m\n",
      "\u001b[34m[2022-05-10:13:02:50:INFO] Determined delimiter of CSV input is ','\u001b[0m\n",
      "\u001b[34m[2022-05-10:13:02:51:INFO] Determined delimiter of CSV input is ','\u001b[0m\n",
      "\u001b[34m[2022-05-10:13:02:51:INFO] Single node training.\u001b[0m\n",
      "\u001b[34m[2022-05-10:13:02:51:INFO] Train matrix has 32950 rows and 59 columns\u001b[0m\n",
      "\u001b[34m[2022-05-10:13:02:51:INFO] Validation matrix has 8238 rows\u001b[0m\n",
      "\u001b[34m[0]#011train-error:0.10076#011validation-error:0.10391\u001b[0m\n",
      "\u001b[34m[1]#011train-error:0.10052#011validation-error:0.10330\u001b[0m\n",
      "\u001b[34m[2]#011train-error:0.10018#011validation-error:0.10318\u001b[0m\n",
      "\u001b[34m[3]#011train-error:0.10018#011validation-error:0.10354\u001b[0m\n",
      "\u001b[34m[4]#011train-error:0.10046#011validation-error:0.10257\u001b[0m\n",
      "\u001b[34m[5]#011train-error:0.10058#011validation-error:0.10257\u001b[0m\n",
      "\u001b[34m[6]#011train-error:0.10039#011validation-error:0.10233\u001b[0m\n",
      "\u001b[34m[7]#011train-error:0.10012#011validation-error:0.10233\u001b[0m\n",
      "\u001b[34m[8]#011train-error:0.10009#011validation-error:0.10185\u001b[0m\n",
      "\u001b[34m[9]#011train-error:0.10043#011validation-error:0.10148\u001b[0m\n",
      "\u001b[34m[10]#011train-error:0.10033#011validation-error:0.10185\u001b[0m\n",
      "\u001b[34m[11]#011train-error:0.10036#011validation-error:0.10221\u001b[0m\n",
      "\u001b[34m[12]#011train-error:0.10018#011validation-error:0.10233\u001b[0m\n",
      "\u001b[34m[13]#011train-error:0.09997#011validation-error:0.10233\u001b[0m\n",
      "\u001b[34m[14]#011train-error:0.09960#011validation-error:0.10233\u001b[0m\n",
      "\u001b[34m[15]#011train-error:0.09960#011validation-error:0.10245\u001b[0m\n",
      "\u001b[34m[16]#011train-error:0.09982#011validation-error:0.10197\u001b[0m\n",
      "\u001b[34m[17]#011train-error:0.09991#011validation-error:0.10233\u001b[0m\n",
      "\u001b[34m[18]#011train-error:0.09982#011validation-error:0.10233\u001b[0m\n",
      "\u001b[34m[19]#011train-error:0.09988#011validation-error:0.10282\u001b[0m\n",
      "\u001b[34m[20]#011train-error:0.09973#011validation-error:0.10294\u001b[0m\n",
      "\u001b[34m[21]#011train-error:0.09960#011validation-error:0.10403\u001b[0m\n",
      "\u001b[34m[22]#011train-error:0.09939#011validation-error:0.10318\u001b[0m\n",
      "\u001b[34m[23]#011train-error:0.09903#011validation-error:0.10282\u001b[0m\n",
      "\u001b[34m[24]#011train-error:0.09894#011validation-error:0.10306\u001b[0m\n",
      "\u001b[34m[25]#011train-error:0.09876#011validation-error:0.10318\u001b[0m\n",
      "\u001b[34m[26]#011train-error:0.09879#011validation-error:0.10354\u001b[0m\n",
      "\u001b[34m[27]#011train-error:0.09885#011validation-error:0.10342\u001b[0m\n",
      "\u001b[34m[28]#011train-error:0.09888#011validation-error:0.10342\u001b[0m\n",
      "\u001b[34m[29]#011train-error:0.09894#011validation-error:0.10318\u001b[0m\n",
      "\u001b[34m[30]#011train-error:0.09872#011validation-error:0.10415\u001b[0m\n",
      "\u001b[34m[31]#011train-error:0.09818#011validation-error:0.10379\u001b[0m\n",
      "\u001b[34m[32]#011train-error:0.09815#011validation-error:0.10452\u001b[0m\n",
      "\u001b[34m[33]#011train-error:0.09803#011validation-error:0.10391\u001b[0m\n",
      "\u001b[34m[34]#011train-error:0.09812#011validation-error:0.10367\u001b[0m\n",
      "\u001b[34m[35]#011train-error:0.09800#011validation-error:0.10379\u001b[0m\n",
      "\u001b[34m[36]#011train-error:0.09800#011validation-error:0.10427\u001b[0m\n",
      "\u001b[34m[37]#011train-error:0.09791#011validation-error:0.10367\u001b[0m\n",
      "\u001b[34m[38]#011train-error:0.09788#011validation-error:0.10379\u001b[0m\n",
      "\u001b[34m[39]#011train-error:0.09769#011validation-error:0.10342\u001b[0m\n",
      "\u001b[34m[40]#011train-error:0.09766#011validation-error:0.10342\u001b[0m\n",
      "\u001b[34m[41]#011train-error:0.09772#011validation-error:0.10342\u001b[0m\n",
      "\u001b[34m[42]#011train-error:0.09785#011validation-error:0.10318\u001b[0m\n",
      "\u001b[34m[43]#011train-error:0.09751#011validation-error:0.10330\u001b[0m\n",
      "\u001b[34m[44]#011train-error:0.09769#011validation-error:0.10318\u001b[0m\n",
      "\u001b[34m[45]#011train-error:0.09769#011validation-error:0.10354\u001b[0m\n",
      "\u001b[34m[46]#011train-error:0.09791#011validation-error:0.10342\u001b[0m\n",
      "\u001b[34m[47]#011train-error:0.09766#011validation-error:0.10330\u001b[0m\n",
      "\u001b[34m[48]#011train-error:0.09760#011validation-error:0.10379\u001b[0m\n",
      "\u001b[34m[49]#011train-error:0.09748#011validation-error:0.10330\u001b[0m\n",
      "\n",
      "2022-05-10 13:03:11 Uploading - Uploading generated training model\n",
      "2022-05-10 13:03:31 Completed - Training job completed\n",
      "Training seconds: 107\n",
      "Billable seconds: 107\n"
     ]
    }
   ],
   "source": [
    "estimator.fit({'train':s3_input_train,'validation':s3_input_test })"
   ]
  },
  {
   "cell_type": "code",
   "execution_count": 67,
   "id": "7fd63130",
   "metadata": {},
   "outputs": [
    {
     "name": "stdout",
     "output_type": "stream",
     "text": [
      "------!"
     ]
    }
   ],
   "source": [
    "xgb_predictor=estimator.deploy(initial_instance_count=1,instance_type='ml.m4.xlarge')"
   ]
  },
  {
   "cell_type": "code",
   "execution_count": 70,
   "id": "6f469fce",
   "metadata": {},
   "outputs": [],
   "source": [
    "test_array=test.drop(['y_yes','y_no'], axis=1).values\n"
   ]
  },
  {
   "cell_type": "code",
   "execution_count": 87,
   "id": "097ac124",
   "metadata": {},
   "outputs": [
    {
     "name": "stderr",
     "output_type": "stream",
     "text": [
      "The csv_serializer has been renamed in sagemaker>=2.\n",
      "See: https://sagemaker.readthedocs.io/en/stable/v2.html for details.\n"
     ]
    }
   ],
   "source": [
    "prediction = xgb_predictor.predict(test_array).decode('utf-8')"
   ]
  },
  {
   "cell_type": "code",
   "execution_count": 89,
   "id": "92788500",
   "metadata": {},
   "outputs": [],
   "source": [
    "predictions_array = np.fromstring(prediction[1:], sep='\\n') # and turn the prediction into an array\n"
   ]
  },
  {
   "cell_type": "code",
   "execution_count": 92,
   "id": "ce1182ed",
   "metadata": {},
   "outputs": [
    {
     "data": {
      "text/plain": [
       "((8238,), (8238, 59))"
      ]
     },
     "execution_count": 92,
     "metadata": {},
     "output_type": "execute_result"
    }
   ],
   "source": [
    "predictions_array.shape,test_array.shape"
   ]
  },
  {
   "cell_type": "code",
   "execution_count": 94,
   "id": "4fb2ee86",
   "metadata": {},
   "outputs": [
    {
     "name": "stdout",
     "output_type": "stream",
     "text": [
      "\n",
      "Overall Classification Rate: 89.7%\n",
      "\n",
      "Predicted      No Purchase    Purchase\n",
      "Observed\n",
      "No Purchase    91% (7188)    34% (102)\n",
      "Purchase        9% (749)     66% (199) \n",
      "\n"
     ]
    }
   ],
   "source": [
    "cm = pd.crosstab(index=test['y_yes'], columns=np.round(predictions_array), rownames=['Observed'], colnames=['Predicted'])\n",
    "tn = cm.iloc[0,0]; fn = cm.iloc[1,0]; tp = cm.iloc[1,1]; fp = cm.iloc[0,1]; p = (tp+tn)/(tp+tn+fp+fn)*100\n",
    "print(\"\\n{0:<20}{1:<4.1f}%\\n\".format(\"Overall Classification Rate: \", p))\n",
    "print(\"{0:<15}{1:<15}{2:>8}\".format(\"Predicted\", \"No Purchase\", \"Purchase\"))\n",
    "print(\"Observed\")\n",
    "print(\"{0:<15}{1:<2.0f}% ({2:<}){3:>6.0f}% ({4:<})\".format(\"No Purchase\", tn/(tn+fn)*100,tn, fp/(tp+fp)*100, fp))\n",
    "print(\"{0:<16}{1:<1.0f}% ({2:<}){3:>7.0f}% ({4:<}) \\n\".format(\"Purchase\", fn/(tn+fn)*100,fn, tp/(tp+fp)*100, tp))"
   ]
  },
  {
   "cell_type": "code",
   "execution_count": null,
   "id": "da332aea",
   "metadata": {},
   "outputs": [],
   "source": [
    "sagemaker.Session().delete_endpoint(xgb_predictor.endpoint)\n",
    "bucket_to_delete = boto3.resource('s3').Bucket(bucket_name)\n",
    "bucket_to_delete.objects.all().delete()\n"
   ]
  },
  {
   "cell_type": "code",
   "execution_count": null,
   "id": "ba389e64",
   "metadata": {},
   "outputs": [],
   "source": []
  }
 ],
 "metadata": {
  "kernelspec": {
   "display_name": "conda_python3",
   "language": "python",
   "name": "conda_python3"
  },
  "language_info": {
   "codemirror_mode": {
    "name": "ipython",
    "version": 3
   },
   "file_extension": ".py",
   "mimetype": "text/x-python",
   "name": "python",
   "nbconvert_exporter": "python",
   "pygments_lexer": "ipython3",
   "version": "3.6.13"
  }
 },
 "nbformat": 4,
 "nbformat_minor": 5
}
