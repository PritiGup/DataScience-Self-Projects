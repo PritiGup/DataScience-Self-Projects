{
 "cells": [
  {
   "cell_type": "markdown",
   "id": "5ae32aa7",
   "metadata": {},
   "source": [
    "## Model to predict Apple stock price using LSTM and data from TIINGO "
   ]
  },
  {
   "cell_type": "code",
   "execution_count": 1,
   "id": "be43543d",
   "metadata": {},
   "outputs": [],
   "source": [
    "# Import required libraries\n",
    "import pandas as pd\n",
    "import matplotlib.pyplot as plt\n",
    "from sklearn.preprocessing import MinMaxScaler\n",
    "import numpy as np"
   ]
  },
  {
   "cell_type": "markdown",
   "id": "31f97902",
   "metadata": {},
   "source": [
    "## Data Collection"
   ]
  },
  {
   "cell_type": "code",
   "execution_count": 2,
   "id": "a402a0ef",
   "metadata": {},
   "outputs": [],
   "source": [
    "# Apple stock Data collected from TIINGO\n",
    "import pandas_datareader as pdr"
   ]
  },
  {
   "cell_type": "code",
   "execution_count": 3,
   "id": "58ed0145",
   "metadata": {},
   "outputs": [
    {
     "name": "stderr",
     "output_type": "stream",
     "text": [
      "C:\\Users\\ADMIN\\anaconda3\\envs\\spam\\lib\\site-packages\\pandas_datareader\\tiingo.py:234: FutureWarning: In a future version of pandas all arguments of concat except for the argument 'objs' will be keyword-only.\n",
      "  return pd.concat(dfs, self._concat_axis)\n"
     ]
    }
   ],
   "source": [
    "## Use your key from TIINGO to get data using API\n",
    "\n",
    "df=pdr.get_data_tiingo('AAPL',api_key=mykey)"
   ]
  },
  {
   "cell_type": "code",
   "execution_count": 4,
   "id": "d50ee7d5",
   "metadata": {},
   "outputs": [],
   "source": [
    "df.to_csv('AAPL.csv')"
   ]
  },
  {
   "cell_type": "code",
   "execution_count": 5,
   "id": "6e3c2b43",
   "metadata": {},
   "outputs": [],
   "source": [
    "df=pd.read_csv('AAPL.csv')"
   ]
  },
  {
   "cell_type": "code",
   "execution_count": 6,
   "id": "679a65dc",
   "metadata": {},
   "outputs": [
    {
     "data": {
      "text/html": [
       "<div>\n",
       "<style scoped>\n",
       "    .dataframe tbody tr th:only-of-type {\n",
       "        vertical-align: middle;\n",
       "    }\n",
       "\n",
       "    .dataframe tbody tr th {\n",
       "        vertical-align: top;\n",
       "    }\n",
       "\n",
       "    .dataframe thead th {\n",
       "        text-align: right;\n",
       "    }\n",
       "</style>\n",
       "<table border=\"1\" class=\"dataframe\">\n",
       "  <thead>\n",
       "    <tr style=\"text-align: right;\">\n",
       "      <th></th>\n",
       "      <th>symbol</th>\n",
       "      <th>date</th>\n",
       "      <th>close</th>\n",
       "      <th>high</th>\n",
       "      <th>low</th>\n",
       "      <th>open</th>\n",
       "      <th>volume</th>\n",
       "      <th>adjClose</th>\n",
       "      <th>adjHigh</th>\n",
       "      <th>adjLow</th>\n",
       "      <th>adjOpen</th>\n",
       "      <th>adjVolume</th>\n",
       "      <th>divCash</th>\n",
       "      <th>splitFactor</th>\n",
       "    </tr>\n",
       "  </thead>\n",
       "  <tbody>\n",
       "    <tr>\n",
       "      <th>0</th>\n",
       "      <td>AAPL</td>\n",
       "      <td>2017-04-18 00:00:00+00:00</td>\n",
       "      <td>141.20</td>\n",
       "      <td>142.04</td>\n",
       "      <td>141.11</td>\n",
       "      <td>141.41</td>\n",
       "      <td>14697544</td>\n",
       "      <td>33.323740</td>\n",
       "      <td>33.521983</td>\n",
       "      <td>33.302500</td>\n",
       "      <td>33.373301</td>\n",
       "      <td>58790176</td>\n",
       "      <td>0.0</td>\n",
       "      <td>1.0</td>\n",
       "    </tr>\n",
       "    <tr>\n",
       "      <th>1</th>\n",
       "      <td>AAPL</td>\n",
       "      <td>2017-04-19 00:00:00+00:00</td>\n",
       "      <td>140.68</td>\n",
       "      <td>142.00</td>\n",
       "      <td>140.45</td>\n",
       "      <td>141.88</td>\n",
       "      <td>17328375</td>\n",
       "      <td>33.201018</td>\n",
       "      <td>33.512543</td>\n",
       "      <td>33.146737</td>\n",
       "      <td>33.484223</td>\n",
       "      <td>69313500</td>\n",
       "      <td>0.0</td>\n",
       "      <td>1.0</td>\n",
       "    </tr>\n",
       "    <tr>\n",
       "      <th>2</th>\n",
       "      <td>AAPL</td>\n",
       "      <td>2017-04-20 00:00:00+00:00</td>\n",
       "      <td>142.44</td>\n",
       "      <td>142.92</td>\n",
       "      <td>141.16</td>\n",
       "      <td>141.22</td>\n",
       "      <td>23319562</td>\n",
       "      <td>33.616385</td>\n",
       "      <td>33.729667</td>\n",
       "      <td>33.314300</td>\n",
       "      <td>33.328460</td>\n",
       "      <td>93278248</td>\n",
       "      <td>0.0</td>\n",
       "      <td>1.0</td>\n",
       "    </tr>\n",
       "    <tr>\n",
       "      <th>3</th>\n",
       "      <td>AAPL</td>\n",
       "      <td>2017-04-21 00:00:00+00:00</td>\n",
       "      <td>142.27</td>\n",
       "      <td>142.68</td>\n",
       "      <td>141.85</td>\n",
       "      <td>142.44</td>\n",
       "      <td>17320928</td>\n",
       "      <td>33.576264</td>\n",
       "      <td>33.673026</td>\n",
       "      <td>33.477143</td>\n",
       "      <td>33.616385</td>\n",
       "      <td>69283712</td>\n",
       "      <td>0.0</td>\n",
       "      <td>1.0</td>\n",
       "    </tr>\n",
       "    <tr>\n",
       "      <th>4</th>\n",
       "      <td>AAPL</td>\n",
       "      <td>2017-04-24 00:00:00+00:00</td>\n",
       "      <td>143.64</td>\n",
       "      <td>143.95</td>\n",
       "      <td>143.18</td>\n",
       "      <td>143.50</td>\n",
       "      <td>17116599</td>\n",
       "      <td>33.899590</td>\n",
       "      <td>33.972751</td>\n",
       "      <td>33.791028</td>\n",
       "      <td>33.866549</td>\n",
       "      <td>68466396</td>\n",
       "      <td>0.0</td>\n",
       "      <td>1.0</td>\n",
       "    </tr>\n",
       "  </tbody>\n",
       "</table>\n",
       "</div>"
      ],
      "text/plain": [
       "  symbol                       date   close    high     low    open    volume  \\\n",
       "0   AAPL  2017-04-18 00:00:00+00:00  141.20  142.04  141.11  141.41  14697544   \n",
       "1   AAPL  2017-04-19 00:00:00+00:00  140.68  142.00  140.45  141.88  17328375   \n",
       "2   AAPL  2017-04-20 00:00:00+00:00  142.44  142.92  141.16  141.22  23319562   \n",
       "3   AAPL  2017-04-21 00:00:00+00:00  142.27  142.68  141.85  142.44  17320928   \n",
       "4   AAPL  2017-04-24 00:00:00+00:00  143.64  143.95  143.18  143.50  17116599   \n",
       "\n",
       "    adjClose    adjHigh     adjLow    adjOpen  adjVolume  divCash  splitFactor  \n",
       "0  33.323740  33.521983  33.302500  33.373301   58790176      0.0          1.0  \n",
       "1  33.201018  33.512543  33.146737  33.484223   69313500      0.0          1.0  \n",
       "2  33.616385  33.729667  33.314300  33.328460   93278248      0.0          1.0  \n",
       "3  33.576264  33.673026  33.477143  33.616385   69283712      0.0          1.0  \n",
       "4  33.899590  33.972751  33.791028  33.866549   68466396      0.0          1.0  "
      ]
     },
     "execution_count": 6,
     "metadata": {},
     "output_type": "execute_result"
    }
   ],
   "source": [
    "df.head()"
   ]
  },
  {
   "cell_type": "code",
   "execution_count": 7,
   "id": "1e8e42bd",
   "metadata": {},
   "outputs": [],
   "source": [
    "df1=df.reset_index()['close']"
   ]
  },
  {
   "cell_type": "code",
   "execution_count": 8,
   "id": "29923c03",
   "metadata": {},
   "outputs": [
    {
     "data": {
      "text/plain": [
       "1254    170.09\n",
       "1255    165.75\n",
       "1256    167.66\n",
       "1257    170.40\n",
       "1258    165.29\n",
       "Name: close, dtype: float64"
      ]
     },
     "execution_count": 8,
     "metadata": {},
     "output_type": "execute_result"
    }
   ],
   "source": [
    "df1.tail()"
   ]
  },
  {
   "cell_type": "code",
   "execution_count": 9,
   "id": "275b1ae1",
   "metadata": {},
   "outputs": [
    {
     "data": {
      "text/html": [
       "<div>\n",
       "<style scoped>\n",
       "    .dataframe tbody tr th:only-of-type {\n",
       "        vertical-align: middle;\n",
       "    }\n",
       "\n",
       "    .dataframe tbody tr th {\n",
       "        vertical-align: top;\n",
       "    }\n",
       "\n",
       "    .dataframe thead th {\n",
       "        text-align: right;\n",
       "    }\n",
       "</style>\n",
       "<table border=\"1\" class=\"dataframe\">\n",
       "  <thead>\n",
       "    <tr style=\"text-align: right;\">\n",
       "      <th></th>\n",
       "      <th>symbol</th>\n",
       "      <th>date</th>\n",
       "      <th>close</th>\n",
       "      <th>high</th>\n",
       "      <th>low</th>\n",
       "      <th>open</th>\n",
       "      <th>volume</th>\n",
       "      <th>adjClose</th>\n",
       "      <th>adjHigh</th>\n",
       "      <th>adjLow</th>\n",
       "      <th>adjOpen</th>\n",
       "      <th>adjVolume</th>\n",
       "      <th>divCash</th>\n",
       "      <th>splitFactor</th>\n",
       "    </tr>\n",
       "  </thead>\n",
       "  <tbody>\n",
       "    <tr>\n",
       "      <th>count</th>\n",
       "      <td>1259</td>\n",
       "      <td>1259</td>\n",
       "      <td>1259.000000</td>\n",
       "      <td>1259.000000</td>\n",
       "      <td>1259.00000</td>\n",
       "      <td>1259.000000</td>\n",
       "      <td>1.259000e+03</td>\n",
       "      <td>1259.000000</td>\n",
       "      <td>1259.000000</td>\n",
       "      <td>1259.000000</td>\n",
       "      <td>1259.000000</td>\n",
       "      <td>1.259000e+03</td>\n",
       "      <td>1259.000000</td>\n",
       "      <td>1259.000000</td>\n",
       "    </tr>\n",
       "    <tr>\n",
       "      <th>unique</th>\n",
       "      <td>1</td>\n",
       "      <td>1259</td>\n",
       "      <td>NaN</td>\n",
       "      <td>NaN</td>\n",
       "      <td>NaN</td>\n",
       "      <td>NaN</td>\n",
       "      <td>NaN</td>\n",
       "      <td>NaN</td>\n",
       "      <td>NaN</td>\n",
       "      <td>NaN</td>\n",
       "      <td>NaN</td>\n",
       "      <td>NaN</td>\n",
       "      <td>NaN</td>\n",
       "      <td>NaN</td>\n",
       "    </tr>\n",
       "    <tr>\n",
       "      <th>top</th>\n",
       "      <td>AAPL</td>\n",
       "      <td>2017-04-18 00:00:00+00:00</td>\n",
       "      <td>NaN</td>\n",
       "      <td>NaN</td>\n",
       "      <td>NaN</td>\n",
       "      <td>NaN</td>\n",
       "      <td>NaN</td>\n",
       "      <td>NaN</td>\n",
       "      <td>NaN</td>\n",
       "      <td>NaN</td>\n",
       "      <td>NaN</td>\n",
       "      <td>NaN</td>\n",
       "      <td>NaN</td>\n",
       "      <td>NaN</td>\n",
       "    </tr>\n",
       "    <tr>\n",
       "      <th>freq</th>\n",
       "      <td>1259</td>\n",
       "      <td>1</td>\n",
       "      <td>NaN</td>\n",
       "      <td>NaN</td>\n",
       "      <td>NaN</td>\n",
       "      <td>NaN</td>\n",
       "      <td>NaN</td>\n",
       "      <td>NaN</td>\n",
       "      <td>NaN</td>\n",
       "      <td>NaN</td>\n",
       "      <td>NaN</td>\n",
       "      <td>NaN</td>\n",
       "      <td>NaN</td>\n",
       "      <td>NaN</td>\n",
       "    </tr>\n",
       "    <tr>\n",
       "      <th>mean</th>\n",
       "      <td>NaN</td>\n",
       "      <td>NaN</td>\n",
       "      <td>191.858396</td>\n",
       "      <td>193.766725</td>\n",
       "      <td>189.70391</td>\n",
       "      <td>191.647566</td>\n",
       "      <td>5.429368e+07</td>\n",
       "      <td>81.292375</td>\n",
       "      <td>82.146380</td>\n",
       "      <td>80.353073</td>\n",
       "      <td>81.231182</td>\n",
       "      <td>1.196683e+08</td>\n",
       "      <td>0.009095</td>\n",
       "      <td>1.002383</td>\n",
       "    </tr>\n",
       "    <tr>\n",
       "      <th>std</th>\n",
       "      <td>NaN</td>\n",
       "      <td>NaN</td>\n",
       "      <td>68.392434</td>\n",
       "      <td>69.100585</td>\n",
       "      <td>67.33131</td>\n",
       "      <td>68.093439</td>\n",
       "      <td>4.041384e+07</td>\n",
       "      <td>45.237325</td>\n",
       "      <td>45.766437</td>\n",
       "      <td>44.654264</td>\n",
       "      <td>45.212665</td>\n",
       "      <td>5.519874e+07</td>\n",
       "      <td>0.077773</td>\n",
       "      <td>0.084549</td>\n",
       "    </tr>\n",
       "    <tr>\n",
       "      <th>min</th>\n",
       "      <td>NaN</td>\n",
       "      <td>NaN</td>\n",
       "      <td>106.840000</td>\n",
       "      <td>110.190000</td>\n",
       "      <td>103.10000</td>\n",
       "      <td>104.540000</td>\n",
       "      <td>1.136204e+07</td>\n",
       "      <td>33.201018</td>\n",
       "      <td>33.512543</td>\n",
       "      <td>33.146737</td>\n",
       "      <td>33.328460</td>\n",
       "      <td>4.099995e+07</td>\n",
       "      <td>0.000000</td>\n",
       "      <td>1.000000</td>\n",
       "    </tr>\n",
       "    <tr>\n",
       "      <th>25%</th>\n",
       "      <td>NaN</td>\n",
       "      <td>NaN</td>\n",
       "      <td>148.925000</td>\n",
       "      <td>149.795000</td>\n",
       "      <td>147.40500</td>\n",
       "      <td>148.700000</td>\n",
       "      <td>2.526365e+07</td>\n",
       "      <td>42.601806</td>\n",
       "      <td>42.860262</td>\n",
       "      <td>42.270459</td>\n",
       "      <td>42.573198</td>\n",
       "      <td>8.317129e+07</td>\n",
       "      <td>0.000000</td>\n",
       "      <td>1.000000</td>\n",
       "    </tr>\n",
       "    <tr>\n",
       "      <th>50%</th>\n",
       "      <td>NaN</td>\n",
       "      <td>NaN</td>\n",
       "      <td>172.790000</td>\n",
       "      <td>174.300000</td>\n",
       "      <td>171.26000</td>\n",
       "      <td>172.540000</td>\n",
       "      <td>3.693780e+07</td>\n",
       "      <td>57.713249</td>\n",
       "      <td>58.277430</td>\n",
       "      <td>57.203033</td>\n",
       "      <td>57.543995</td>\n",
       "      <td>1.048186e+08</td>\n",
       "      <td>0.000000</td>\n",
       "      <td>1.000000</td>\n",
       "    </tr>\n",
       "    <tr>\n",
       "      <th>75%</th>\n",
       "      <td>NaN</td>\n",
       "      <td>NaN</td>\n",
       "      <td>209.435000</td>\n",
       "      <td>211.945000</td>\n",
       "      <td>207.51000</td>\n",
       "      <td>209.860000</td>\n",
       "      <td>7.631092e+07</td>\n",
       "      <td>124.053570</td>\n",
       "      <td>125.280073</td>\n",
       "      <td>122.296243</td>\n",
       "      <td>123.849504</td>\n",
       "      <td>1.398241e+08</td>\n",
       "      <td>0.000000</td>\n",
       "      <td>1.000000</td>\n",
       "    </tr>\n",
       "    <tr>\n",
       "      <th>max</th>\n",
       "      <td>NaN</td>\n",
       "      <td>NaN</td>\n",
       "      <td>506.090000</td>\n",
       "      <td>515.140000</td>\n",
       "      <td>500.33000</td>\n",
       "      <td>514.790000</td>\n",
       "      <td>3.326072e+08</td>\n",
       "      <td>181.778019</td>\n",
       "      <td>182.706834</td>\n",
       "      <td>178.891703</td>\n",
       "      <td>182.397229</td>\n",
       "      <td>4.268849e+08</td>\n",
       "      <td>0.820000</td>\n",
       "      <td>4.000000</td>\n",
       "    </tr>\n",
       "  </tbody>\n",
       "</table>\n",
       "</div>"
      ],
      "text/plain": [
       "       symbol                       date        close         high  \\\n",
       "count    1259                       1259  1259.000000  1259.000000   \n",
       "unique      1                       1259          NaN          NaN   \n",
       "top      AAPL  2017-04-18 00:00:00+00:00          NaN          NaN   \n",
       "freq     1259                          1          NaN          NaN   \n",
       "mean      NaN                        NaN   191.858396   193.766725   \n",
       "std       NaN                        NaN    68.392434    69.100585   \n",
       "min       NaN                        NaN   106.840000   110.190000   \n",
       "25%       NaN                        NaN   148.925000   149.795000   \n",
       "50%       NaN                        NaN   172.790000   174.300000   \n",
       "75%       NaN                        NaN   209.435000   211.945000   \n",
       "max       NaN                        NaN   506.090000   515.140000   \n",
       "\n",
       "               low         open        volume     adjClose      adjHigh  \\\n",
       "count   1259.00000  1259.000000  1.259000e+03  1259.000000  1259.000000   \n",
       "unique         NaN          NaN           NaN          NaN          NaN   \n",
       "top            NaN          NaN           NaN          NaN          NaN   \n",
       "freq           NaN          NaN           NaN          NaN          NaN   \n",
       "mean     189.70391   191.647566  5.429368e+07    81.292375    82.146380   \n",
       "std       67.33131    68.093439  4.041384e+07    45.237325    45.766437   \n",
       "min      103.10000   104.540000  1.136204e+07    33.201018    33.512543   \n",
       "25%      147.40500   148.700000  2.526365e+07    42.601806    42.860262   \n",
       "50%      171.26000   172.540000  3.693780e+07    57.713249    58.277430   \n",
       "75%      207.51000   209.860000  7.631092e+07   124.053570   125.280073   \n",
       "max      500.33000   514.790000  3.326072e+08   181.778019   182.706834   \n",
       "\n",
       "             adjLow      adjOpen     adjVolume      divCash  splitFactor  \n",
       "count   1259.000000  1259.000000  1.259000e+03  1259.000000  1259.000000  \n",
       "unique          NaN          NaN           NaN          NaN          NaN  \n",
       "top             NaN          NaN           NaN          NaN          NaN  \n",
       "freq            NaN          NaN           NaN          NaN          NaN  \n",
       "mean      80.353073    81.231182  1.196683e+08     0.009095     1.002383  \n",
       "std       44.654264    45.212665  5.519874e+07     0.077773     0.084549  \n",
       "min       33.146737    33.328460  4.099995e+07     0.000000     1.000000  \n",
       "25%       42.270459    42.573198  8.317129e+07     0.000000     1.000000  \n",
       "50%       57.203033    57.543995  1.048186e+08     0.000000     1.000000  \n",
       "75%      122.296243   123.849504  1.398241e+08     0.000000     1.000000  \n",
       "max      178.891703   182.397229  4.268849e+08     0.820000     4.000000  "
      ]
     },
     "execution_count": 9,
     "metadata": {},
     "output_type": "execute_result"
    }
   ],
   "source": [
    "df.describe(include='all') # no data missing"
   ]
  },
  {
   "cell_type": "code",
   "execution_count": 10,
   "id": "1c0490fe",
   "metadata": {},
   "outputs": [
    {
     "data": {
      "text/plain": [
       "Text(0.5, 0, 'Date')"
      ]
     },
     "execution_count": 10,
     "metadata": {},
     "output_type": "execute_result"
    },
    {
     "data": {
      "image/png": "[encoded data removed]",
      "text/plain": [
       "<Figure size 432x288 with 1 Axes>"
      ]
     },
     "metadata": {
      "needs_background": "light"
     },
     "output_type": "display_data"
    }
   ],
   "source": [
    "plt.plot(df['date'],df['close'])\n",
    "plt.xlabel(\"Date\")"
   ]
  },
  {
   "cell_type": "markdown",
   "id": "5b8c0501",
   "metadata": {},
   "source": [
    "## Data Preprocessing\n"
   ]
  },
  {
   "cell_type": "code",
   "execution_count": 11,
   "id": "bff02b76",
   "metadata": {},
   "outputs": [
    {
     "data": {
      "text/plain": [
       "((1259,), 161.02)"
      ]
     },
     "execution_count": 11,
     "metadata": {},
     "output_type": "execute_result"
    }
   ],
   "source": [
    "df1.shape,df1[1159]"
   ]
  },
  {
   "cell_type": "code",
   "execution_count": 12,
   "id": "61a09208",
   "metadata": {},
   "outputs": [],
   "source": [
    "## LSTM is sensitive to scale. So scaling using MinMaxScaler\n",
    "\n",
    "scaler=MinMaxScaler(feature_range=(0, 1))\n",
    "df1=scaler.fit_transform(np.array(df1).reshape(-1,1))"
   ]
  },
  {
   "cell_type": "code",
   "execution_count": 13,
   "id": "8cabb7b9",
   "metadata": {},
   "outputs": [
    {
     "data": {
      "text/plain": [
       "((1259, 1), array([0.13570445]))"
      ]
     },
     "execution_count": 13,
     "metadata": {},
     "output_type": "execute_result"
    }
   ],
   "source": [
    "df1.shape,df1[1159]"
   ]
  },
  {
   "cell_type": "code",
   "execution_count": 14,
   "id": "40e07818",
   "metadata": {},
   "outputs": [],
   "source": [
    "## train, validation, test split on time axis. First 60% data training, next 20% CV and next 20% testset.\n",
    "\n",
    "train_size=int(len(df1)*.60)\n",
    "cv_size=int(len(df1)*.20)\n",
    "test_size=len(df1) -train_size-cv_size\n",
    "\n",
    "train_set,cv_set,test_set=df1[0:train_size,:],df1[train_size:train_size+cv_size,:],df1[train_size+cv_size:len(df1),:1]\n"
   ]
  },
  {
   "cell_type": "code",
   "execution_count": 15,
   "id": "c0331ad3",
   "metadata": {},
   "outputs": [],
   "source": [
    "## funtion to create independent features and label set for dataset.\n",
    "def create_train_dataset(dataset,time_step):\n",
    "    data_X,data_y =[],[]\n",
    "    for i in range(len(dataset)-time_step-1):\n",
    "        ax=df1[i:(i+time_step),0]\n",
    "        ay=df1[i+time_step,0]\n",
    "        data_X.append(ax)\n",
    "        data_y.append(ay)\n",
    "    return np.array(data_X),np.array(data_y)\n"
   ]
  },
  {
   "cell_type": "code",
   "execution_count": 16,
   "id": "81154047",
   "metadata": {},
   "outputs": [],
   "source": [
    "# function call to create independent features and label for training, CV and test dataset.\n",
    "time_step=100\n",
    "X_train,y_train=create_train_dataset(train_set,time_step)\n",
    "X_cv,y_cv=create_train_dataset(cv_set,time_step)\n",
    "X_test,y_test=create_train_dataset(test_set,time_step)\n"
   ]
  },
  {
   "cell_type": "code",
   "execution_count": 17,
   "id": "bc6c8883",
   "metadata": {},
   "outputs": [
    {
     "data": {
      "text/plain": [
       "(array([0.08606137, 0.08475892, 0.08916719, 0.08874139, 0.09217282,\n",
       "        0.094402  , 0.09227301, 0.09254853, 0.09219787, 0.09953663,\n",
       "        0.101866  , 0.10073889, 0.0994114 , 0.10549781, 0.11564183,\n",
       "        0.11809643, 0.116268  , 0.11799624, 0.12338134, 0.12237946,\n",
       "        0.12180338, 0.10872887, 0.11446462, 0.11576706, 0.11809643,\n",
       "        0.11762054, 0.11646838, 0.11779587, 0.11714465, 0.11729493,\n",
       "        0.11501565, 0.11606763, 0.12175329, 0.11794615, 0.11924859,\n",
       "        0.12155291, 0.12060113, 0.1055479 , 0.09663118, 0.09956168,\n",
       "        0.09597996, 0.09380088, 0.08874139, 0.0989355 , 0.09560426,\n",
       "        0.0977583 , 0.09715717, 0.09878522, 0.09763306, 0.09239825,\n",
       "        0.09765811, 0.09227301, 0.09312461, 0.09182217, 0.09329994,\n",
       "        0.08989355, 0.09352536, 0.09572949, 0.0969067 , 0.09743269,\n",
       "        0.10251722, 0.10569818, 0.10700063, 0.10830307, 0.11065748,\n",
       "        0.10895429, 0.10877896, 0.11333751, 0.11496556, 0.11676894,\n",
       "        0.10950532, 0.10685034, 0.10492173, 0.10822793, 0.12598622,\n",
       "        0.12205385, 0.1241077 , 0.13016907, 0.13335003, 0.13580463,\n",
       "        0.12142768, 0.12683782, 0.13277395, 0.13715717, 0.13552912,\n",
       "        0.12778961, 0.12688791, 0.12616155, 0.13259862, 0.13309956,\n",
       "        0.13132123, 0.132799  , 0.13683156, 0.14043832, 0.14154039,\n",
       "        0.14316844, 0.14329368, 0.13835942, 0.13793363, 0.13630557]),\n",
       " 0.12971822166562297)"
      ]
     },
     "execution_count": 17,
     "metadata": {},
     "output_type": "execute_result"
    }
   ],
   "source": [
    "X_train[0], y_train[0]"
   ]
  },
  {
   "cell_type": "code",
   "execution_count": 18,
   "id": "2648c340",
   "metadata": {},
   "outputs": [
    {
     "data": {
      "text/plain": [
       "(array([0.08606137, 0.08475892, 0.08916719, 0.08874139, 0.09217282,\n",
       "        0.094402  , 0.09227301, 0.09254853, 0.09219787, 0.09953663,\n",
       "        0.101866  , 0.10073889, 0.0994114 , 0.10549781, 0.11564183,\n",
       "        0.11809643, 0.116268  , 0.11799624, 0.12338134, 0.12237946,\n",
       "        0.12180338, 0.10872887, 0.11446462, 0.11576706, 0.11809643,\n",
       "        0.11762054, 0.11646838, 0.11779587, 0.11714465, 0.11729493,\n",
       "        0.11501565, 0.11606763, 0.12175329, 0.11794615, 0.11924859,\n",
       "        0.12155291, 0.12060113, 0.1055479 , 0.09663118, 0.09956168,\n",
       "        0.09597996, 0.09380088, 0.08874139, 0.0989355 , 0.09560426,\n",
       "        0.0977583 , 0.09715717, 0.09878522, 0.09763306, 0.09239825,\n",
       "        0.09765811, 0.09227301, 0.09312461, 0.09182217, 0.09329994,\n",
       "        0.08989355, 0.09352536, 0.09572949, 0.0969067 , 0.09743269,\n",
       "        0.10251722, 0.10569818, 0.10700063, 0.10830307, 0.11065748,\n",
       "        0.10895429, 0.10877896, 0.11333751, 0.11496556, 0.11676894,\n",
       "        0.10950532, 0.10685034, 0.10492173, 0.10822793, 0.12598622,\n",
       "        0.12205385, 0.1241077 , 0.13016907, 0.13335003, 0.13580463,\n",
       "        0.12142768, 0.12683782, 0.13277395, 0.13715717, 0.13552912,\n",
       "        0.12778961, 0.12688791, 0.12616155, 0.13259862, 0.13309956,\n",
       "        0.13132123, 0.132799  , 0.13683156, 0.14043832, 0.14154039,\n",
       "        0.14316844, 0.14329368, 0.13835942, 0.13793363, 0.13630557]),\n",
       " 0.12971822166562297)"
      ]
     },
     "execution_count": 18,
     "metadata": {},
     "output_type": "execute_result"
    }
   ],
   "source": [
    "X_test[0], y_test[0]"
   ]
  },
  {
   "cell_type": "code",
   "execution_count": 19,
   "id": "7da7bd8f",
   "metadata": {},
   "outputs": [],
   "source": [
    "# reshaping\n",
    "X_train=X_train.reshape(X_train.shape[0],X_train.shape[1],1)\n",
    "X_cv=X_cv.reshape(X_cv.shape[0],X_cv.shape[1],1)\n",
    "X_test=X_test.reshape(X_test.shape[0],X_test.shape[1],1)"
   ]
  },
  {
   "cell_type": "markdown",
   "id": "c67455fc",
   "metadata": {},
   "source": [
    "## LSTM based model creation"
   ]
  },
  {
   "cell_type": "code",
   "execution_count": 20,
   "id": "9224a15b",
   "metadata": {},
   "outputs": [],
   "source": [
    "#import tensorflow as tf\n",
    "from tensorflow.keras.models import Sequential\n",
    "from tensorflow.keras.layers import Dense, LSTM\n"
   ]
  },
  {
   "cell_type": "code",
   "execution_count": 21,
   "id": "0f8b818d",
   "metadata": {},
   "outputs": [],
   "source": [
    "model=Sequential()\n",
    "model.add(LSTM(50,return_sequences=True,input_shape=(100,1)))\n",
    "model.add(LSTM(50,return_sequences=True))\n",
    "model.add(LSTM(50))\n",
    "model.add(Dense(1))\n",
    "model.compile(loss='mean_squared_error', optimizer='adam')"
   ]
  },
  {
   "cell_type": "code",
   "execution_count": 22,
   "id": "c4eb24e7",
   "metadata": {},
   "outputs": [
    {
     "name": "stdout",
     "output_type": "stream",
     "text": [
      "Model: \"sequential\"\n",
      "_________________________________________________________________\n",
      " Layer (type)                Output Shape              Param #   \n",
      "=================================================================\n",
      " lstm (LSTM)                 (None, 100, 50)           10400     \n",
      "                                                                 \n",
      " lstm_1 (LSTM)               (None, 100, 50)           20200     \n",
      "                                                                 \n",
      " lstm_2 (LSTM)               (None, 50)                20200     \n",
      "                                                                 \n",
      " dense (Dense)               (None, 1)                 51        \n",
      "                                                                 \n",
      "=================================================================\n",
      "Total params: 50,851\n",
      "Trainable params: 50,851\n",
      "Non-trainable params: 0\n",
      "_________________________________________________________________\n"
     ]
    }
   ],
   "source": [
    "model.summary()"
   ]
  },
  {
   "cell_type": "markdown",
   "id": "10fbe239",
   "metadata": {},
   "source": [
    "## Model training"
   ]
  },
  {
   "cell_type": "code",
   "execution_count": 23,
   "id": "af01ce18",
   "metadata": {},
   "outputs": [
    {
     "name": "stdout",
     "output_type": "stream",
     "text": [
      "Epoch 1/10\n",
      "21/21 [==============================] - 10s 196ms/step - loss: 0.0155 - val_loss: 0.0024\n",
      "Epoch 2/10\n",
      "21/21 [==============================] - 2s 102ms/step - loss: 0.0023 - val_loss: 8.1825e-04\n",
      "Epoch 3/10\n",
      "21/21 [==============================] - 2s 103ms/step - loss: 0.0011 - val_loss: 3.0424e-04\n",
      "Epoch 4/10\n",
      "21/21 [==============================] - 2s 111ms/step - loss: 0.0011 - val_loss: 2.3432e-04\n",
      "Epoch 5/10\n",
      "21/21 [==============================] - 2s 106ms/step - loss: 9.8542e-04 - val_loss: 4.0014e-04\n",
      "Epoch 6/10\n",
      "21/21 [==============================] - 2s 101ms/step - loss: 9.1401e-04 - val_loss: 2.3550e-04\n",
      "Epoch 7/10\n",
      "21/21 [==============================] - 2s 100ms/step - loss: 8.3798e-04 - val_loss: 2.3424e-04\n",
      "Epoch 8/10\n",
      "21/21 [==============================] - 2s 101ms/step - loss: 8.1717e-04 - val_loss: 3.1717e-04\n",
      "Epoch 9/10\n",
      "21/21 [==============================] - 2s 100ms/step - loss: 6.6911e-04 - val_loss: 2.4223e-04\n",
      "Epoch 10/10\n",
      "21/21 [==============================] - 2s 100ms/step - loss: 6.2707e-04 - val_loss: 2.3567e-04\n"
     ]
    },
    {
     "data": {
      "text/plain": [
       "<keras.callbacks.History at 0x1f15644fd90>"
      ]
     },
     "execution_count": 23,
     "metadata": {},
     "output_type": "execute_result"
    }
   ],
   "source": [
    "model.fit(X_train,y_train,validation_data=(X_cv,y_cv),epochs=10)"
   ]
  },
  {
   "cell_type": "markdown",
   "id": "201e6602",
   "metadata": {},
   "source": [
    "## Predictions and Evaluation"
   ]
  },
  {
   "cell_type": "code",
   "execution_count": 27,
   "id": "aec5baaf",
   "metadata": {},
   "outputs": [],
   "source": [
    "train_predict=model.predict(X_train)\n",
    "train_predict=scaler.inverse_transform(train_predict)\n",
    "\n",
    "cv_predict=model.predict(X_cv)\n",
    "cv_predict=scaler.inverse_transform(cv_predict)\n",
    "\n",
    "y_pred_test=model.predict(X_test)\n",
    "\n",
    "y_pred_test2=scaler.inverse_transform(y_pred_test)\n",
    "y_test2=np.reshape(y_test,(152,1))\n",
    "y_test2=scaler.inverse_transform(y_test2)"
   ]
  },
  {
   "cell_type": "code",
   "execution_count": 28,
   "id": "6f99ef03",
   "metadata": {},
   "outputs": [
    {
     "data": {
      "text/plain": [
       "37.69848838905318"
      ]
     },
     "execution_count": 28,
     "metadata": {},
     "output_type": "execute_result"
    }
   ],
   "source": [
    "from sklearn.metrics import mean_squared_error\n",
    "mean_squared_error(y_test2,y_pred_test2)"
   ]
  },
  {
   "cell_type": "code",
   "execution_count": 29,
   "id": "91348d36",
   "metadata": {},
   "outputs": [
    {
     "data": {
      "image/png": "[encoded data removed]",
      "text/plain": [
       "<Figure size 432x288 with 1 Axes>"
      ]
     },
     "metadata": {
      "needs_background": "light"
     },
     "output_type": "display_data"
    }
   ],
   "source": [
    "### Plotting \n",
    "# shift train predictions for plotting\n",
    "look_back=100\n",
    "trainPredictPlot = np.empty_like(df1)\n",
    "trainPredictPlot[:, :] = np.nan\n",
    "trainPredictPlot[look_back:len(train_predict)+look_back, :] = train_predict\n",
    "# shift test predictions for plotting\n",
    "cvPredictPlot = np.empty_like(df1)\n",
    "cvPredictPlot[:, :] = np.nan\n",
    "cvPredictPlot[len(train_predict)+(look_back*2)+1:len(train_predict)+(look_back)+cv_size, :] = cv_predict\n",
    "\n",
    "testPredictPlot = np.empty_like(df1)\n",
    "testPredictPlot[:, :] = np.nan\n",
    "testPredictPlot[len(train_predict)+(look_back*2)+1+cv_size:len(df1)-1, :] = y_pred_test2\n",
    "\n",
    "# plot baseline and predictions\n",
    "plt.plot(scaler.inverse_transform(df1))\n",
    "plt.plot(trainPredictPlot)\n",
    "plt.plot(cvPredictPlot)\n",
    "plt.plot(testPredictPlot)\n",
    "plt.show()"
   ]
  },
  {
   "cell_type": "code",
   "execution_count": 30,
   "id": "f6a28224",
   "metadata": {},
   "outputs": [],
   "source": [
    "# x_input=test_set[153:].reshape(1,-1)\n",
    "x_input=test_set[153:]\n",
    "temp=x_input"
   ]
  },
  {
   "cell_type": "code",
   "execution_count": 31,
   "id": "e9ccefe5",
   "metadata": {},
   "outputs": [],
   "source": [
    "## predict stock for next 30 days\n",
    "from numpy import array\n",
    "Pred_30=[]\n",
    "i=0\n",
    "while(i<30):\n",
    "    x_input = x_input.reshape((1, 100,1))\n",
    "    yhat = model.predict(x_input, verbose=0)\n",
    "    temp=np.append(temp, yhat)\n",
    "    x_input=temp[1+i:]\n",
    "    Pred_30=np.append(Pred_30, yhat)\n",
    "    i=i+1  \n"
   ]
  },
  {
   "cell_type": "code",
   "execution_count": 32,
   "id": "194433ae",
   "metadata": {},
   "outputs": [],
   "source": [
    "Pred_302d = np.reshape(Pred_30, (30,1))"
   ]
  },
  {
   "cell_type": "code",
   "execution_count": 33,
   "id": "1f314c41",
   "metadata": {},
   "outputs": [
    {
     "data": {
      "image/png": "[encoded data removed]",
      "text/plain": [
       "<Figure size 432x288 with 1 Axes>"
      ]
     },
     "metadata": {
      "needs_background": "light"
     },
     "output_type": "display_data"
    }
   ],
   "source": [
    "# plot last 100 days and next 30 days predictions\n",
    "day_x1=np.arange(1,101)\n",
    "day_x2=np.arange(101,131)\n",
    "\n",
    "plt.plot(day_x1,scaler.inverse_transform(df1[1159:]))\n",
    "plt.plot(day_x2,scaler.inverse_transform(Pred_302d))\n",
    "plt.show()"
   ]
  },
  {
   "cell_type": "code",
   "execution_count": 34,
   "id": "6ebd78c5",
   "metadata": {},
   "outputs": [],
   "source": [
    "df3=np.append(df1[1159:],Pred_302d)\n",
    "df_final=np.reshape(df3,(130,1))"
   ]
  },
  {
   "cell_type": "code",
   "execution_count": 35,
   "id": "d1713ffc",
   "metadata": {},
   "outputs": [
    {
     "data": {
      "image/png": "[encoded data removed]",
      "text/plain": [
       "<Figure size 432x288 with 1 Axes>"
      ]
     },
     "metadata": {
      "needs_background": "light"
     },
     "output_type": "display_data"
    }
   ],
   "source": [
    "# plot last 100 days and next 30 days predictions\n",
    "\n",
    "plt.plot(scaler.inverse_transform(df_final))\n",
    "plt.show()"
   ]
  },
  {
   "cell_type": "markdown",
   "id": "62f79ac9",
   "metadata": {},
   "source": [
    "## Conclusion: LSTM based model making promising predictions assuming past trends continue in future.\n",
    "\n",
    "## Thank you"
   ]
  }
 ],
 "metadata": {
  "kernelspec": {
   "display_name": "Python [conda env:spam] *",
   "language": "python",
   "name": "conda-env-spam-py"
  },
  "language_info": {
   "codemirror_mode": {
    "name": "ipython",
    "version": 3
   },
   "file_extension": ".py",
   "mimetype": "text/x-python",
   "name": "python",
   "nbconvert_exporter": "python",
   "pygments_lexer": "ipython3",
   "version": "3.8.13"
  }
 },
 "nbformat": 4,
 "nbformat_minor": 5
}
